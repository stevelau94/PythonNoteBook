{
 "cells": [
  {
   "cell_type": "markdown",
   "metadata": {},
   "source": [
    "# 在pycharm中简历或使用virtualenv  \n",
    "\n",
    "\n",
    "pycharm不但可以使用virtualenv,更紧密集成virtualenv,可以在setting中 -> Porject -> Project Interpreters右侧齿轮按钮直接创建虚拟环境\n",
    "\n",
    "或者Add local虚拟环境\n",
    "\n",
    "#### 创建虚拟环境Create VirtualEnv\n",
    "\n",
    "name,location,base interpreters好理解\n",
    "\n",
    "这两个注意一下：\n",
    "\n",
    "Inherit global site-packages可以使用base interpreter中的第三方库，不选将和外界完全隔离\n",
    "\n",
    "Make available to all projects可将此虚拟环境提供给其他项目使用。\n",
    "\n",
    "最后OK就好\n",
    "\n",
    "#### 添加虚拟环境\n",
    "\n",
    "这个更简单，在齿轮按钮中直接添加，然后在目录里找到就好了"
   ]
  }
 ],
 "metadata": {
  "kernelspec": {
   "display_name": "Python 2",
   "language": "python",
   "name": "python2"
  },
  "language_info": {
   "codemirror_mode": {
    "name": "ipython",
    "version": 2
   },
   "file_extension": ".py",
   "mimetype": "text/x-python",
   "name": "python",
   "nbconvert_exporter": "python",
   "pygments_lexer": "ipython2",
   "version": "2.7.13"
  }
 },
 "nbformat": 4,
 "nbformat_minor": 2
}
