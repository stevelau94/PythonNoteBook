{
 "cells": [
  {
   "cell_type": "markdown",
   "metadata": {},
   "source": [
    "# 一些关于python的笔记整理"
   ]
  },
  {
   "cell_type": "markdown",
   "metadata": {},
   "source": [
    "### 字符串"
   ]
  },
  {
   "cell_type": "markdown",
   "metadata": {},
   "source": [
    "* 字符串格式化输出"
   ]
  },
  {
   "cell_type": "markdown",
   "metadata": {},
   "source": [
    "占位符"
   ]
  },
  {
   "cell_type": "code",
   "execution_count": 12,
   "metadata": {
    "collapsed": false
   },
   "outputs": [
    {
     "name": "stdout",
     "output_type": "stream",
     "text": [
      "15 years\n",
      "I like python\n",
      "PI = 3.140000\n"
     ]
    }
   ],
   "source": [
    "a = \"%d years\" % 15\n",
    "print a\n",
    "\n",
    "b = \"I like %s\" % \"python\"\n",
    "print b\n",
    "\n",
    "c = 'PI = %f' % 3.14\n",
    "print c"
   ]
  },
  {
   "cell_type": "markdown",
   "metadata": {},
   "source": [
    "**string.format()**"
   ]
  },
  {
   "cell_type": "code",
   "execution_count": 15,
   "metadata": {
    "collapsed": false
   },
   "outputs": [
    {
     "name": "stdout",
     "output_type": "stream",
     "text": [
      "shanghai is a great city. there more than 30 people in this city\n"
     ]
    }
   ],
   "source": [
    "s = \"shanghai is a {0} city. there more than {1} people in this city\".format(\"great\", 30,000,000)\n",
    "print s"
   ]
  },
  {
   "cell_type": "markdown",
   "metadata": {},
   "source": [
    "字典格式化"
   ]
  },
  {
   "cell_type": "code",
   "execution_count": 21,
   "metadata": {
    "collapsed": false
   },
   "outputs": [
    {
     "name": "stdout",
     "output_type": "stream",
     "text": [
      "I love python\n"
     ]
    }
   ],
   "source": [
    "lang = \"python\"\n",
    "print \"I love %(program)s\" %{\"program\":lang}"
   ]
  },
  {
   "cell_type": "code",
   "execution_count": null,
   "metadata": {
    "collapsed": true
   },
   "outputs": [],
   "source": []
  },
  {
   "cell_type": "markdown",
   "metadata": {},
   "source": [
    "##### 后续增加"
   ]
  },
  {
   "cell_type": "markdown",
   "metadata": {},
   "source": [
    "### 列表"
   ]
  },
  {
   "cell_type": "markdown",
   "metadata": {},
   "source": [
    "**append** vs **extend**"
   ]
  },
  {
   "cell_type": "code",
   "execution_count": 23,
   "metadata": {
    "collapsed": false
   },
   "outputs": [
    {
     "name": "stdout",
     "output_type": "stream",
     "text": [
      "[1, 2, 3, ['lau', 'MAC']]\n"
     ]
    }
   ],
   "source": [
    "#append\n",
    "lst1 = [1,2,3]\n",
    "lst1.append(['lau', 'MAC'])\n",
    "print lst1"
   ]
  },
  {
   "cell_type": "code",
   "execution_count": 25,
   "metadata": {
    "collapsed": false
   },
   "outputs": [
    {
     "name": "stdout",
     "output_type": "stream",
     "text": [
      "[1, 2, 3, 'lau', 'MAC']\n"
     ]
    }
   ],
   "source": [
    "#extend\n",
    "lst2 = [1,2,3]\n",
    "lst2.extend(['lau','MAC'])\n",
    "print lst2"
   ]
  },
  {
   "cell_type": "code",
   "execution_count": null,
   "metadata": {
    "collapsed": true
   },
   "outputs": [],
   "source": []
  },
  {
   "cell_type": "markdown",
   "metadata": {},
   "source": [
    "##### 后续增加"
   ]
  },
  {
   "cell_type": "markdown",
   "metadata": {},
   "source": [
    "### 字典"
   ]
  },
  {
   "cell_type": "markdown",
   "metadata": {},
   "source": [
    "* copy & deepcopy"
   ]
  },
  {
   "cell_type": "code",
   "execution_count": 48,
   "metadata": {
    "collapsed": false,
    "scrolled": true
   },
   "outputs": [
    {
     "name": "stdout",
     "output_type": "stream",
     "text": [
      "x= {'lang': ['python', 'go', 'dart'], 'name': 'lau'}\n",
      "y= {'lang': ['python', 'go', 'dart'], 'name': 'lau'}\n",
      "y= {'lang': ['python', 'dart'], 'name': 'lau'}\n",
      "x= {'lang': ['python', 'dart'], 'name': 'lau'}\n",
      "x y 都变化了 查看xy的内存位置 以及xy中的列表元素内存位置\n",
      "71446872\n",
      "95072600\n",
      "70274632\n",
      "70274632\n"
     ]
    }
   ],
   "source": [
    "x = {\"lang\":['python', 'go', 'dart'],\"name\":\"lau\"}\n",
    "print 'x=',x\n",
    "\n",
    "y = x.copy()\n",
    "print 'y=',y\n",
    "\n",
    "y['lang'].remove('go')\n",
    "print 'y=',y\n",
    "print 'x=',x\n",
    "print \"x y 都变化了 查看xy的内存位置 以及xy中的列表元素内存位置\"\n",
    "\n",
    "print id(x)\n",
    "print id(y)\n",
    "\n",
    "print id(x[\"lang\"])\n",
    "print id(y[\"lang\"])"
   ]
  },
  {
   "cell_type": "markdown",
   "metadata": {},
   "source": [
    "原因： 因为字典存储的是列表而非基本类型的数据，对于这些非基本类型的数据会发生浅拷贝的情况，解决办法：deepcopy"
   ]
  },
  {
   "cell_type": "code",
   "execution_count": 49,
   "metadata": {
    "collapsed": false
   },
   "outputs": [
    {
     "name": "stdout",
     "output_type": "stream",
     "text": [
      "z= {'lang': ['python', 'dart'], 'name': 'lau'}\n",
      "x= {'lang': ['python', 'dart', 'scala'], 'name': 'lau'}\n",
      "z= {'lang': ['python', 'dart'], 'name': 'lau'}\n"
     ]
    }
   ],
   "source": [
    "import copy\n",
    "z = copy.deepcopy(x)\n",
    "print 'z=',z\n",
    "\n",
    "x['lang'].append('scala')\n",
    "print 'x=',x\n",
    "print 'z=',z\n"
   ]
  },
  {
   "cell_type": "markdown",
   "metadata": {},
   "source": [
    "deepcopy解决了浅复制的问题"
   ]
  },
  {
   "cell_type": "markdown",
   "metadata": {},
   "source": [
    "* dict.get() & dict['key'] & dict.setdefault()"
   ]
  },
  {
   "cell_type": "markdown",
   "metadata": {},
   "source": [
    "dict.get()没有dict['key']严格"
   ]
  },
  {
   "cell_type": "code",
   "execution_count": 56,
   "metadata": {
    "collapsed": false
   },
   "outputs": [
    {
     "name": "stdout",
     "output_type": "stream",
     "text": [
      "x= {'lang': ['python', 'dart', 'scala'], 'name': 'lau'}\n",
      "None\n"
     ]
    },
    {
     "ename": "KeyError",
     "evalue": "'city'",
     "output_type": "error",
     "traceback": [
      "\u001b[0;31m---------------------------------------------------------------------------\u001b[0m",
      "\u001b[0;31mKeyError\u001b[0m                                  Traceback (most recent call last)",
      "\u001b[0;32m<ipython-input-56-24b257a1e7c3>\u001b[0m in \u001b[0;36m<module>\u001b[0;34m()\u001b[0m\n\u001b[1;32m      3\u001b[0m \u001b[1;32mprint\u001b[0m \u001b[0mx\u001b[0m\u001b[1;33m.\u001b[0m\u001b[0mget\u001b[0m\u001b[1;33m(\u001b[0m\u001b[1;34m'city'\u001b[0m\u001b[1;33m)\u001b[0m\u001b[1;33m\u001b[0m\u001b[0m\n\u001b[1;32m      4\u001b[0m \u001b[1;31m#返回KeyError\u001b[0m\u001b[1;33m\u001b[0m\u001b[1;33m\u001b[0m\u001b[0m\n\u001b[0;32m----> 5\u001b[0;31m \u001b[1;32mprint\u001b[0m \u001b[0mx\u001b[0m\u001b[1;33m[\u001b[0m\u001b[1;34m'city'\u001b[0m\u001b[1;33m]\u001b[0m\u001b[1;33m\u001b[0m\u001b[0m\n\u001b[0m",
      "\u001b[0;31mKeyError\u001b[0m: 'city'"
     ]
    }
   ],
   "source": [
    "print \"x=\",x\n",
    "#返回None\n",
    "print x.get('city')\n",
    "#返回KeyError\n",
    "print x['city']"
   ]
  },
  {
   "cell_type": "code",
   "execution_count": 64,
   "metadata": {
    "collapsed": false
   },
   "outputs": [
    {
     "name": "stdout",
     "output_type": "stream",
     "text": [
      "d= {'lang': ['go', 'python']}\n",
      "['go', 'python']\n",
      "shanghai\n",
      "d= {'lang': ['go', 'python'], 'city': 'shanghai'}\n"
     ]
    }
   ],
   "source": [
    "d = {'lang':['go','python'],}\n",
    "print \"d=\",d\n",
    "\n",
    "print d.setdefault('lang')\n",
    "print d.setdefault('city','shanghai')\n",
    "print \"d=\",d"
   ]
  },
  {
   "cell_type": "markdown",
   "metadata": {},
   "source": [
    "* update"
   ]
  },
  {
   "cell_type": "code",
   "execution_count": 73,
   "metadata": {
    "collapsed": false
   },
   "outputs": [
    {
     "name": "stdout",
     "output_type": "stream",
     "text": [
      "d1= {'lang': 'python', 'city': 'shanghai'}\n",
      "d2= {'city': 'shanghai', 'name': 'lau', 'subject': 'ML'}\n"
     ]
    }
   ],
   "source": [
    "d1 = {'lang':\"python\"}\n",
    "d2 = {'city':\"shanghai\"}\n",
    "\n",
    "d1.update(d2)\n",
    "print \"d1=\",d1\n",
    "\n",
    "d2.update([('name','lau'),('subject','ML')])\n",
    "print \"d2=\",d2"
   ]
  },
  {
   "cell_type": "markdown",
   "metadata": {},
   "source": [
    "##### 后续增加"
   ]
  },
  {
   "cell_type": "markdown",
   "metadata": {},
   "source": [
    "### 集合"
   ]
  },
  {
   "cell_type": "markdown",
   "metadata": {},
   "source": [
    "**不提倡使用{}创建set** 因为无法创建含有列表或者字典类型对象元素的集合"
   ]
  },
  {
   "cell_type": "markdown",
   "metadata": {},
   "source": [
    "* remove() & discard()"
   ]
  },
  {
   "cell_type": "code",
   "execution_count": 85,
   "metadata": {
    "collapsed": false
   },
   "outputs": [
    {
     "name": "stdout",
     "output_type": "stream",
     "text": [
      "set(['a', 'i'])\n",
      "set(['a', 'i', 'add'])\n",
      "set(['a', 'i'])\n"
     ]
    },
    {
     "ename": "KeyError",
     "evalue": "'s'",
     "output_type": "error",
     "traceback": [
      "\u001b[0;31m---------------------------------------------------------------------------\u001b[0m",
      "\u001b[0;31mKeyError\u001b[0m                                  Traceback (most recent call last)",
      "\u001b[0;32m<ipython-input-85-a22bea0f860e>\u001b[0m in \u001b[0;36m<module>\u001b[0;34m()\u001b[0m\n\u001b[1;32m      8\u001b[0m \u001b[1;32mprint\u001b[0m \u001b[0ma_set\u001b[0m\u001b[1;33m\u001b[0m\u001b[0m\n\u001b[1;32m      9\u001b[0m \u001b[1;33m\u001b[0m\u001b[0m\n\u001b[0;32m---> 10\u001b[0;31m \u001b[0ma_set\u001b[0m\u001b[1;33m.\u001b[0m\u001b[0mremove\u001b[0m\u001b[1;33m(\u001b[0m\u001b[1;34m's'\u001b[0m\u001b[1;33m)\u001b[0m\u001b[1;33m\u001b[0m\u001b[0m\n\u001b[0m",
      "\u001b[0;31mKeyError\u001b[0m: 's'"
     ]
    }
   ],
   "source": [
    "a_set = {'a', 'i'}\n",
    "\n",
    "print a_set\n",
    "type(a_set)\n",
    "a_set.add('add')\n",
    "print a_set\n",
    "a_set.remove(\"add\")\n",
    "print a_set\n",
    "\n",
    "a_set.remove('s')"
   ]
  },
  {
   "cell_type": "code",
   "execution_count": 87,
   "metadata": {
    "collapsed": true
   },
   "outputs": [],
   "source": [
    "#discard删除set中没有的元素，什么都不会发生\n",
    "a_set.discard('c')"
   ]
  },
  {
   "cell_type": "markdown",
   "metadata": {},
   "source": [
    "* 不可变的集合 frozenset()"
   ]
  },
  {
   "cell_type": "code",
   "execution_count": 96,
   "metadata": {
    "collapsed": false
   },
   "outputs": [
    {
     "name": "stdout",
     "output_type": "stream",
     "text": [
      "set(['github', 'h', 'o', 'n', 'p', 't', 'y'])\n",
      "frozenset(['h', 'o', 'n', 'p', 't', 'y'])\n"
     ]
    },
    {
     "ename": "AttributeError",
     "evalue": "'frozenset' object has no attribute 'add'",
     "output_type": "error",
     "traceback": [
      "\u001b[0;31m---------------------------------------------------------------------------\u001b[0m",
      "\u001b[0;31mAttributeError\u001b[0m                            Traceback (most recent call last)",
      "\u001b[0;32m<ipython-input-96-ad7dc7dd8776>\u001b[0m in \u001b[0;36m<module>\u001b[0;34m()\u001b[0m\n\u001b[1;32m      6\u001b[0m \u001b[1;33m\u001b[0m\u001b[0m\n\u001b[1;32m      7\u001b[0m \u001b[1;31m#frozenset无法变化 会返回错误\u001b[0m\u001b[1;33m\u001b[0m\u001b[1;33m\u001b[0m\u001b[0m\n\u001b[0;32m----> 8\u001b[0;31m \u001b[0mf_set\u001b[0m\u001b[1;33m.\u001b[0m\u001b[0madd\u001b[0m\u001b[1;33m(\u001b[0m\u001b[1;34m'github'\u001b[0m\u001b[1;33m)\u001b[0m\u001b[1;33m\u001b[0m\u001b[0m\n\u001b[0m",
      "\u001b[0;31mAttributeError\u001b[0m: 'frozenset' object has no attribute 'add'"
     ]
    }
   ],
   "source": [
    "a_set = set('python')\n",
    "a_set.add('github')\n",
    "print a_set\n",
    "f_set = frozenset('python')\n",
    "print f_set\n",
    "\n",
    "#frozenset无法变化 会返回错误\n",
    "f_set.add('github')"
   ]
  },
  {
   "cell_type": "markdown",
   "metadata": {},
   "source": [
    "* 集合运算"
   ]
  },
  {
   "cell_type": "markdown",
   "metadata": {},
   "source": [
    "集合相等\n"
   ]
  },
  {
   "cell_type": "code",
   "execution_count": 104,
   "metadata": {
    "collapsed": false
   },
   "outputs": [
    {
     "data": {
      "text/plain": [
       "False"
      ]
     },
     "execution_count": 104,
     "metadata": {},
     "output_type": "execute_result"
    }
   ],
   "source": [
    "aset = set('python')\n",
    "bset = set('github')\n",
    "\n",
    "#判断相等\n",
    "aset == bset\n"
   ]
  },
  {
   "cell_type": "code",
   "execution_count": 105,
   "metadata": {
    "collapsed": false
   },
   "outputs": [
    {
     "data": {
      "text/plain": [
       "True"
      ]
     },
     "execution_count": 105,
     "metadata": {},
     "output_type": "execute_result"
    }
   ],
   "source": [
    "aset != bset"
   ]
  },
  {
   "cell_type": "markdown",
   "metadata": {},
   "source": [
    "子集"
   ]
  },
  {
   "cell_type": "code",
   "execution_count": 109,
   "metadata": {
    "collapsed": false
   },
   "outputs": [
    {
     "data": {
      "text/plain": [
       "True"
      ]
     },
     "execution_count": 109,
     "metadata": {},
     "output_type": "execute_result"
    }
   ],
   "source": [
    "c = set('pyt')\n",
    "c < aset"
   ]
  },
  {
   "cell_type": "code",
   "execution_count": 110,
   "metadata": {
    "collapsed": false
   },
   "outputs": [
    {
     "data": {
      "text/plain": [
       "True"
      ]
     },
     "execution_count": 110,
     "metadata": {},
     "output_type": "execute_result"
    }
   ],
   "source": [
    "c.issubset(aset)"
   ]
  },
  {
   "cell_type": "code",
   "execution_count": 114,
   "metadata": {
    "collapsed": false
   },
   "outputs": [
    {
     "data": {
      "text/plain": [
       "True"
      ]
     },
     "execution_count": 114,
     "metadata": {},
     "output_type": "execute_result"
    }
   ],
   "source": [
    "aset.issuperset(c)"
   ]
  },
  {
   "cell_type": "markdown",
   "metadata": {},
   "source": [
    "并集"
   ]
  },
  {
   "cell_type": "code",
   "execution_count": 115,
   "metadata": {
    "collapsed": false
   },
   "outputs": [
    {
     "data": {
      "text/plain": [
       "{'b', 'g', 'h', 'i', 'n', 'o', 'p', 't', 'u', 'y'}"
      ]
     },
     "execution_count": 115,
     "metadata": {},
     "output_type": "execute_result"
    }
   ],
   "source": [
    "aset | bset"
   ]
  },
  {
   "cell_type": "code",
   "execution_count": 116,
   "metadata": {
    "collapsed": false
   },
   "outputs": [
    {
     "data": {
      "text/plain": [
       "{'b', 'g', 'h', 'i', 'n', 'o', 'p', 't', 'u', 'y'}"
      ]
     },
     "execution_count": 116,
     "metadata": {},
     "output_type": "execute_result"
    }
   ],
   "source": [
    "aset.union(bset)"
   ]
  },
  {
   "cell_type": "markdown",
   "metadata": {},
   "source": [
    "交集"
   ]
  },
  {
   "cell_type": "code",
   "execution_count": 117,
   "metadata": {
    "collapsed": false
   },
   "outputs": [
    {
     "data": {
      "text/plain": [
       "{'h', 't'}"
      ]
     },
     "execution_count": 117,
     "metadata": {},
     "output_type": "execute_result"
    }
   ],
   "source": [
    "aset & bset"
   ]
  },
  {
   "cell_type": "code",
   "execution_count": 119,
   "metadata": {
    "collapsed": false
   },
   "outputs": [
    {
     "data": {
      "text/plain": [
       "{'h', 't'}"
      ]
     },
     "execution_count": 119,
     "metadata": {},
     "output_type": "execute_result"
    }
   ],
   "source": [
    "aset.intersection(bset)"
   ]
  },
  {
   "cell_type": "markdown",
   "metadata": {},
   "source": [
    "差集"
   ]
  },
  {
   "cell_type": "code",
   "execution_count": 120,
   "metadata": {
    "collapsed": false
   },
   "outputs": [
    {
     "data": {
      "text/plain": [
       "{'n', 'o', 'p', 'y'}"
      ]
     },
     "execution_count": 120,
     "metadata": {},
     "output_type": "execute_result"
    }
   ],
   "source": [
    "aset - bset"
   ]
  },
  {
   "cell_type": "code",
   "execution_count": 121,
   "metadata": {
    "collapsed": false
   },
   "outputs": [
    {
     "data": {
      "text/plain": [
       "{'n', 'o', 'p', 'y'}"
      ]
     },
     "execution_count": 121,
     "metadata": {},
     "output_type": "execute_result"
    }
   ],
   "source": [
    "aset.difference(bset)"
   ]
  },
  {
   "cell_type": "markdown",
   "metadata": {},
   "source": [
    "对称差集（aset-bset | bset-aset)"
   ]
  },
  {
   "cell_type": "code",
   "execution_count": 122,
   "metadata": {
    "collapsed": false
   },
   "outputs": [
    {
     "data": {
      "text/plain": [
       "{'b', 'g', 'i', 'n', 'o', 'p', 'u', 'y'}"
      ]
     },
     "execution_count": 122,
     "metadata": {},
     "output_type": "execute_result"
    }
   ],
   "source": [
    "aset.symmetric_difference(bset)"
   ]
  },
  {
   "cell_type": "markdown",
   "metadata": {},
   "source": [
    "##### 后续增加"
   ]
  },
  {
   "cell_type": "code",
   "execution_count": null,
   "metadata": {
    "collapsed": true
   },
   "outputs": [],
   "source": []
  }
 ],
 "metadata": {
  "kernelspec": {
   "display_name": "Python 2",
   "language": "python",
   "name": "python2"
  },
  "language_info": {
   "codemirror_mode": {
    "name": "ipython",
    "version": 2
   },
   "file_extension": ".py",
   "mimetype": "text/x-python",
   "name": "python",
   "nbconvert_exporter": "python",
   "pygments_lexer": "ipython2",
   "version": "2.7.13"
  }
 },
 "nbformat": 4,
 "nbformat_minor": 2
}
