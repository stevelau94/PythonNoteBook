{
 "cells": [
  {
   "cell_type": "markdown",
   "metadata": {},
   "source": [
    "# about list"
   ]
  },
  {
   "cell_type": "code",
   "execution_count": 1,
   "metadata": {
    "collapsed": false
   },
   "outputs": [
    {
     "data": {
      "text/plain": [
       "[115, 112, 97, 109]"
      ]
     },
     "execution_count": 1,
     "metadata": {},
     "output_type": "execute_result"
    }
   ],
   "source": [
    "# 嵌套list\n",
    "L = [[1, 2], 'string', {}]\n",
    "# 初始化\n",
    "L = list('spam')\n",
    "L = list(range(0, 4))\n",
    "# 解析\n",
    "list(map(ord, 'spam'))\n",
    "# 长度\n",
    "len(L)\n",
    "\n",
    "# 求值\n",
    "L.count(value)\n",
    "#\n",
    "L.append(obj)\n",
    "#\n",
    "L.insert(index, obj)\n",
    "#\n",
    "L.extend(interable)\n",
    "#\n",
    "L.index(value, [start, [stop]])\n",
    "# 弹出index，默认list最后一个\n",
    "L.pop([index])\n",
    "# 删除第一个找到的\n",
    "L.remove(value)\n",
    "# 反转\n",
    "L.reverse()\n",
    "#\n",
    "L.sort(cmp=None, key=None, reverse = False)\n"
   ]
  },
  {
   "cell_type": "code",
   "execution_count": 13,
   "metadata": {
    "collapsed": false
   },
   "outputs": [
    {
     "name": "stdout",
     "output_type": "stream",
     "text": [
      "[1, 2]\n",
      "[1, 2, [2]]\n",
      "[1, 2, [2], 2]\n"
     ]
    }
   ],
   "source": [
    "# 测试l.extend 和 l.append\n",
    "l = [1, 2]\n",
    "print l\n",
    "l.append([2])\n",
    "print l\n",
    "l.extend([2])\n",
    "print l"
   ]
  },
  {
   "cell_type": "markdown",
   "metadata": {},
   "source": [
    "# about dir"
   ]
  },
  {
   "cell_type": "code",
   "execution_count": 14,
   "metadata": {
    "collapsed": true
   },
   "outputs": [],
   "source": [
    "D = {}\n",
    "D = {'spam':2, 'asd':{'ham':1}}\n",
    "# 集体赋值\n",
    "D = dict.fromkeys(['s', 'd'], 8)\n",
    "\n",
    "# 创建的一些方法\n",
    "D = dict(name = 'T', age = 12)\n",
    "D = dict([(\"name\":'tom'),('age':12)])\n",
    "D = dict(zip(['name':'age'],['tom',12]))\n",
    "\n",
    "D.get()\n",
    "# 合并\n",
    "D.update(other_D)\n",
    "D.pop(key, [D])\n",
    "D.popitem()\n",
    "D.setdefault(k[, d])\n",
    "\n",
    "# 删除\n",
    "del D\n",
    "del D['key']\n",
    "\n",
    "# 元祖可以成为key\n",
    "D[(1, 2, 3)] = 2\n"
   ]
  },
  {
   "cell_type": "code",
   "execution_count": null,
   "metadata": {
    "collapsed": true
   },
   "outputs": [],
   "source": [
    "# 解析\n",
    "\n",
    "D = {k:8 for k in ['s', 'd']}\n",
    "\n",
    "D = {l:v for (k, v) in zip(['name', 'age'], ['tom', 12])}"
   ]
  },
  {
   "cell_type": "markdown",
   "metadata": {},
   "source": [
    "# about file\n"
   ]
  },
  {
   "cell_type": "code",
   "execution_count": null,
   "metadata": {
    "collapsed": true
   },
   "outputs": [],
   "source": [
    "fIn = open('dir', 'w')\n",
    "fOut = open('dir', 'r')\n",
    "\n",
    "f.read([size])\n",
    "f.readline([size])\n",
    "f.readlines([size])\n",
    "f.readable()\n",
    "f.write()\n",
    "f.writelines(seq)\n",
    "# 是否可写\n",
    "f.writeable()\n",
    "\n",
    "f.close()\n",
    "# 将缓冲区内容写入硬盘\n",
    "f.flush()\n",
    "# 标记文件当前位置\n",
    "f.tell()\n",
    "\n",
    "\n"
   ]
  }
 ],
 "metadata": {
  "kernelspec": {
   "display_name": "Python 2",
   "language": "python",
   "name": "python2"
  },
  "language_info": {
   "codemirror_mode": {
    "name": "ipython",
    "version": 2
   },
   "file_extension": ".py",
   "mimetype": "text/x-python",
   "name": "python",
   "nbconvert_exporter": "python",
   "pygments_lexer": "ipython2",
   "version": "2.7.13"
  }
 },
 "nbformat": 4,
 "nbformat_minor": 2
}
