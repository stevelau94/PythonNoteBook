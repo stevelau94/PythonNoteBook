{
 "cells": [
  {
   "cell_type": "markdown",
   "metadata": {
    "collapsed": true
   },
   "source": [
    "# python & postgreSQL"
   ]
  },
  {
   "cell_type": "markdown",
   "metadata": {},
   "source": [
    "这是一篇用python连接postgreSQL的笔记"
   ]
  },
  {
   "cell_type": "markdown",
   "metadata": {},
   "source": [
    "之前写过一段关于python DB_API 的笔记"
   ]
  },
  {
   "cell_type": "markdown",
   "metadata": {},
   "source": [
    "[Database Interfaces](https://wiki.python.org/moin/DatabaseInterfaces#Native_Python_Databases)有一些使用python操作数据库的接口\n",
    "\n",
    "选用[psycopg2](http://initd.org/psycopg/docs/usage.html)进行python操作postgreSQL的工作\n",
    "\n",
    "[psycopg2HomePage](http://initd.org/psycopg/download/)"
   ]
  },
  {
   "cell_type": "code",
   "execution_count": null,
   "metadata": {
    "collapsed": true
   },
   "outputs": [],
   "source": [
    "import psycopg2\n",
    "#连接数据库，password是可选参数\n",
    "conn = psycopg2.connect(\"dbname=test user=postgres\")\n",
    "#使用游标完成数据库操作\n",
    "cur = conn.cursor()\n",
    "#创建表\n",
    "cur.execute(\"CREATE TABLE test (id serial PRIMARY KEY, num integer, data varchar);\")\n",
    "#插入\n",
    "cur.execute(\"INSERT INTO test (num, data) VALUES (%s, %s)\",(100, \"abc'def\"))\n",
    "#查询\n",
    "cur.execute(\"SELECT * FROM test;\")\n",
    "#显示查询\n",
    "cur.fetchone()\n",
    "#提交事务\n",
    "conn.commit()\n",
    "#关闭连接\n",
    "cur.close()\n",
    "conn.close()"
   ]
  },
  {
   "cell_type": "markdown",
   "metadata": {},
   "source": [
    "这是一个简单的使用psycopg2连接postgreSQL的例子"
   ]
  },
  {
   "cell_type": "markdown",
   "metadata": {},
   "source": [
    "### 事务控制\n"
   ]
  },
  {
   "cell_type": "markdown",
   "metadata": {},
   "source": [
    "\n",
    "在使用SELECT的情况下，psycopg2**默认开启事务（不必像在postgreSQL shell 里面那样写START TRANSACTION）**\n",
    "\n",
    "在操作结束后及时关闭数据库连接"
   ]
  },
  {
   "cell_type": "markdown",
   "metadata": {},
   "source": [
    "### with语句"
   ]
  },
  {
   "cell_type": "markdown",
   "metadata": {},
   "source": [
    "从psycopg2的2.5版本开始， 连接和游标可以使用with语句"
   ]
  },
  {
   "cell_type": "code",
   "execution_count": null,
   "metadata": {
    "collapsed": true
   },
   "outputs": [],
   "source": [
    "with psycopg2.connect(DSN) as conn:\n",
    "    with conn.cursor() as curs:\n",
    "        curs.execute(SQL)"
   ]
  },
  {
   "cell_type": "markdown",
   "metadata": {},
   "source": [
    "如果没有返回异常，则已经提交（commited）\n",
    "否则会rollback"
   ]
  },
  {
   "cell_type": "markdown",
   "metadata": {},
   "source": [
    "结束with语句并不会关闭连接，在连接中可以多次使用with语句"
   ]
  },
  {
   "cell_type": "code",
   "execution_count": null,
   "metadata": {
    "collapsed": true
   },
   "outputs": [],
   "source": [
    "conn = psycopg2.connect(DSN)\n",
    "\n",
    "with conn:\n",
    "    with conn.cursor() as curs:\n",
    "        curs.execute(SQL1)\n",
    "\n",
    "with conn:\n",
    "    with conn.cursor() as curs:\n",
    "        curs.execute(SQL2)\n",
    "\n",
    "conn.close()"
   ]
  },
  {
   "cell_type": "markdown",
   "metadata": {},
   "source": [
    "### 线程安全"
   ]
  },
  {
   "cell_type": "markdown",
   "metadata": {},
   "source": [
    "Psycopg2模块和连接对象是线程安全的：\n",
    "\n",
    "许多线程可以在同时，不同的事务中，不同的线程连接中或者一个连接的不同游标访问同一个数据库\n",
    "\n",
    "Psycopg2是2级线程安全的"
   ]
  },
  {
   "cell_type": "markdown",
   "metadata": {},
   "source": [
    "Thread and process safety\n",
    "The Psycopg module and the connection objects are thread-safe: many threads can access the same database either using separate sessions and creating a connection per thread or using the same connection and creating separate cursors. In DB API 2.0 parlance, Psycopg is level 2 thread safe.\n",
    "\n",
    "The difference between the above two approaches is that, using different connections, the commands will be executed in different sessions and will be served by different server processes. On the other hand, using many cursors on the same connection, all the commands will be executed in the same session (and in the same transaction if the connection is not in autocommit mode), but they will be serialized."
   ]
  }
 ],
 "metadata": {
  "kernelspec": {
   "display_name": "Python 2",
   "language": "python",
   "name": "python2"
  },
  "language_info": {
   "codemirror_mode": {
    "name": "ipython",
    "version": 2
   },
   "file_extension": ".py",
   "mimetype": "text/x-python",
   "name": "python",
   "nbconvert_exporter": "python",
   "pygments_lexer": "ipython2",
   "version": "2.7.13"
  }
 },
 "nbformat": 4,
 "nbformat_minor": 2
}
