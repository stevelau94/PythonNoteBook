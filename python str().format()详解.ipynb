{
 "cells": [
  {
   "cell_type": "markdown",
   "metadata": {},
   "source": [
    "# python str.format()"
   ]
  },
  {
   "cell_type": "markdown",
   "metadata": {},
   "source": [
    "## Format String Syntax"
   ]
  },
  {
   "cell_type": "markdown",
   "metadata": {},
   "source": [
    "str.format()包含一些被{}包括的“格式化区域”  \n",
    "格式化区域内的语法如下:"
   ]
  },
  {
   "cell_type": "markdown",
   "metadata": {},
   "source": [
    "```\n",
    "replacement_field ::=  \"{\" [field_name] [\"!\" conversion] [\":\" format_spec] \"}\"  \n",
    "field_name        ::=  arg_name (\".\" attribute_name | \"[\" element_index \"]\")*  \n",
    "arg_name          ::=  [identifier | integer]  \n",
    "attribute_name    ::=  identifier  \n",
    "element_index     ::=  integer | index_string  \n",
    "index_string      ::=  <any source character except \"]\"> +  \n",
    "conversion        ::=  \"r\" | \"s\"  \n",
    "format_spec       ::=  <described in the next section>\n",
    "```"
   ]
  },
  {
   "cell_type": "markdown",
   "metadata": {},
   "source": [
    "### field_name\n",
    "包含数字或者关键字  \n",
    "如果是数字，则是位置参数， 通过位置索引到格式化位置，插入需要格式化的内容  \n",
    "以下例子均来自[doc_python- Format examples部分](https://docs.python.org/2.7/library/string.html#formatexamples)"
   ]
  },
  {
   "cell_type": "code",
   "execution_count": 2,
   "metadata": {
    "collapsed": false
   },
   "outputs": [
    {
     "data": {
      "text/plain": [
       "'a, b, c'"
      ]
     },
     "execution_count": 2,
     "metadata": {},
     "output_type": "execute_result"
    }
   ],
   "source": [
    "'{0}, {1}, {2}'.format('a', 'b', 'c')"
   ]
  },
  {
   "cell_type": "code",
   "execution_count": 3,
   "metadata": {
    "collapsed": false
   },
   "outputs": [
    {
     "data": {
      "text/plain": [
       "'a, b, c'"
      ]
     },
     "execution_count": 3,
     "metadata": {},
     "output_type": "execute_result"
    }
   ],
   "source": [
    "'{}, {}, {}'.format('a', 'b', 'c') "
   ]
  },
  {
   "cell_type": "code",
   "execution_count": 4,
   "metadata": {
    "collapsed": false
   },
   "outputs": [
    {
     "data": {
      "text/plain": [
       "'c, b, a'"
      ]
     },
     "execution_count": 4,
     "metadata": {},
     "output_type": "execute_result"
    }
   ],
   "source": [
    "'{2}, {1}, {0}'.format('a', 'b', 'c')"
   ]
  },
  {
   "cell_type": "code",
   "execution_count": 5,
   "metadata": {
    "collapsed": false
   },
   "outputs": [
    {
     "data": {
      "text/plain": [
       "'c, b, a'"
      ]
     },
     "execution_count": 5,
     "metadata": {},
     "output_type": "execute_result"
    }
   ],
   "source": [
    "'{2}, {1}, {0}'.format(*'abc')"
   ]
  },
  {
   "cell_type": "code",
   "execution_count": 6,
   "metadata": {
    "collapsed": false
   },
   "outputs": [
    {
     "data": {
      "text/plain": [
       "'Coordinates: 37.24N, -115.81W'"
      ]
     },
     "execution_count": 6,
     "metadata": {},
     "output_type": "execute_result"
    }
   ],
   "source": [
    "'Coordinates: {latitude}, {longitude}'.format(latitude='37.24N', longitude='-115.81W')"
   ]
  },
  {
   "cell_type": "code",
   "execution_count": 7,
   "metadata": {
    "collapsed": false
   },
   "outputs": [
    {
     "data": {
      "text/plain": [
       "'Coordinates: 37.24N, -115.81W'"
      ]
     },
     "execution_count": 7,
     "metadata": {},
     "output_type": "execute_result"
    }
   ],
   "source": [
    "coord = {'latitude': '37.24N', 'longitude': '-115.81W'}\n",
    "'Coordinates: {latitude}, {longitude}'.format(**coord)"
   ]
  },
  {
   "cell_type": "markdown",
   "metadata": {},
   "source": [
    "### !conversion\n",
    "转化域可以在格式化内容之前进行强制转化"
   ]
  },
  {
   "cell_type": "markdown",
   "metadata": {},
   "source": [
    "### format_spec \n",
    "格式化区域包括格式化的内容，包括字段宽度，小数精度等详细信息。  \n",
    "此处可以包含嵌套， 可以包含域名，转换标志，转换格式等内容，但是不能包含更深层的嵌套。这让格式化的值可以动态指定。  "
   ]
  },
  {
   "cell_type": "markdown",
   "metadata": {},
   "source": [
    "## Format Specification Mini-Language\n",
    "\n",
    "“Format specifications”的作用是，具体的指定每个格式化值如何表示并填充到replacement fields。他们也可以被直接传递给*built-in format()*函数。  \n",
    "每个可格式化的类型都可以在被解释时通过格式化规范定义。\n",
    "\n",
    "标准的格式化标识符如下：\n",
    "\n",
    "```\n",
    "format_spec ::=  [[fill]align][sign][#][0][width][,][.precision][type]\n",
    "fill        ::=  <any character>\n",
    "align       ::=  \"<\" | \">\" | \"=\" | \"^\"\n",
    "sign        ::=  \"+\" | \"-\" | \" \"\n",
    "width       ::=  integer\n",
    "precision   ::=  integer\n",
    "type        ::=  \"b\" | \"c\" | \"d\" | \"e\" | \"E\" | \"f\" | \"F\" | \"g\" | \"G\" | \"n\" | \"o\" | \"s\" | \"x\" | \"X\" | \"%\"\n",
    "```\n",
    "\n",
    "### align  选项\n",
    "\n",
    "\n",
    "如果此域是被指定的，它前面会有个默认是空格的 *fill* 字符。\n",
    "此域不可以包含花括号{}，但是在嵌套的replacement field可以  \n",
    "  \n",
    "各种校准选项如下：\n",
    "\n",
    "<table>\n",
    "    <tr>\n",
    "        <th>options</th>\n",
    "        <th>meaning</th>\n",
    "    </tr>\n",
    "    <tr>\n",
    "        <th>  <  </th>\n",
    "        <th>强制格式化内容左对齐</th>\n",
    "    </tr>\n",
    "        <tr>\n",
    "        <th>  > </th>\n",
    "        <th>强制格式化内容右对齐</th>\n",
    "    </tr>\n",
    "    <tr>\n",
    "        <th>  =  </th>\n",
    "        <th>此处只适用于numeric类型，根据sign域处理</th>\n",
    "    </tr>\n",
    "        <tr>\n",
    "        <th>  ^  </th>\n",
    "        <th>强制居中</th>\n",
    "    </tr>\n",
    "\n",
    "[NOTE]  除非字段最小宽度已经定义，否则字段将会默认按照数据大小置入，这样校准选项没有意义\n",
    "\n",
    "### sign  选项\n",
    "\n",
    "只对数字类型有效  \n",
    "<table>  \n",
    "  <tr>\n",
    "      <th>options</th>\n",
    "      <th>meaning</th>\n",
    "  </tr>\n",
    "  <tr>\n",
    "      <th> + </th>\n",
    "      <th>数字的'与'操作（两边都是正数或负数）</th>\n",
    "  </tr>\n",
    "  <tr>\n",
    "      <th> - </th>\n",
    "      <th>仅用于负数</th>\n",
    "  </tr>\n",
    "    <tr>\n",
    "      <th> space </th>\n",
    "      <th>用于正数</th>\n",
    "\n",
    "### #  选项 \n",
    "用于整数，或者二进制，八进制和十六进制  \n",
    "输出分别会有'0b','0o','0x'前缀\n",
    "\n",
    "\n",
    "### width 选项\n",
    "用十进制整数定义最小域宽度。  \n",
    "如果width没有被指定，则域宽度根据内容被定义  "
   ]
  },
  {
   "cell_type": "markdown",
   "metadata": {},
   "source": [
    "### precision 选项\n",
    "用十进制整数定义小数有有多少位数需要被显示  \n",
    "对于非数字类型，此数字指定域内容最大宽度，换句话说就是最多会有多少字符展示"
   ]
  },
  {
   "cell_type": "markdown",
   "metadata": {},
   "source": [
    "### type  选项\n",
    "定义数据如何被呈现  \n",
    "##### 字符串类型\n",
    "<table>  \n",
    "  <tr>\n",
    "      <th>type</th>\n",
    "      <th>meaning</th>\n",
    "  </tr>\n",
    "  <tr>\n",
    "      <th> 's' </th>\n",
    "      <th>字符串格式化</th>\n",
    "  </tr>\n",
    "    <tr>\n",
    "      <th>None</th>\n",
    "      <th>和's'一样，默认字符串格式化</th>\n",
    "  </tr>"
   ]
  },
  {
   "cell_type": "markdown",
   "metadata": {},
   "source": [
    "\n",
    "##### 整数类型 \n",
    "<table>  \n",
    "  <tr>\n",
    "      <th>type</th>\n",
    "      <th>meaning</th>\n",
    "  </tr>\n",
    "  <tr>\n",
    "      <th> 'b' </th>\n",
    "      <th>二进制类型</th>\n",
    "  </tr>\n",
    "    <tr>\n",
    "      <th>'c'</th>\n",
    "      <th>将整数转化成相应的unicode</th>\n",
    "  </tr>\n",
    "      <tr>\n",
    "      <th>'d'</th>\n",
    "      <th>十进制整数</th>\n",
    "  </tr>    <tr>\n",
    "      <th>'o'</th>\n",
    "      <th>八进制整数</th>\n",
    "  </tr>    <tr>\n",
    "      <th>'x'</th>\n",
    "      <th>十六进制整数</th>\n",
    "  </tr>    <tr>\n",
    "      <th>'X'</th>\n",
    "      <th>十六进制整数</th>\n",
    "  </tr>    <tr>\n",
    "      <th>None</th>\n",
    "      <th>和's'一样，默认字符串格式化</th>\n",
    "  </tr>    <tr>\n",
    "      <th>'n'</th>\n",
    "      <th>和'd'相同，加入相应的千位分隔符</th>\n",
    "  </tr>"
   ]
  },
  {
   "cell_type": "markdown",
   "metadata": {},
   "source": [
    "##### 浮点数类型\n",
    "<table>  \n",
    "  <tr>\n",
    "      <th>type</th>\n",
    "      <th>meaning</th>\n",
    "  </tr>\n",
    "  <tr>\n",
    "      <th> 'e' </th>\n",
    "      <th>指数类型</th>\n",
    "  </tr>\n",
    "    <tr>\n",
    "      <th>'E'</th>\n",
    "      <th>指数类型</th>\n",
    "  </tr>\n",
    "      <tr>\n",
    "      <th>'f'</th>\n",
    "      <th>定点数类型</th>\n",
    "  </tr>    <tr>\n",
    "      <th>'g'</th>\n",
    "      <th>通用格式</th>\n",
    "  </tr>    <tr>\n",
    "      <th>'%'</th>\n",
    "      <th>百分率</th>\n"
   ]
  },
  {
   "cell_type": "markdown",
   "metadata": {},
   "source": [
    "##  Format examples"
   ]
  },
  {
   "cell_type": "code",
   "execution_count": 10,
   "metadata": {
    "collapsed": false
   },
   "outputs": [
    {
     "data": {
      "text/plain": [
       "'a, b, c'"
      ]
     },
     "execution_count": 10,
     "metadata": {},
     "output_type": "execute_result"
    }
   ],
   "source": [
    "'{0}, {1}, {2}'.format('a', 'b', 'c')"
   ]
  },
  {
   "cell_type": "code",
   "execution_count": 13,
   "metadata": {
    "collapsed": false
   },
   "outputs": [
    {
     "data": {
      "text/plain": [
       "'a, b, c'"
      ]
     },
     "execution_count": 13,
     "metadata": {},
     "output_type": "execute_result"
    }
   ],
   "source": [
    "'{}, {}, {}'.format('a', 'b', 'c')"
   ]
  },
  {
   "cell_type": "code",
   "execution_count": 14,
   "metadata": {
    "collapsed": false
   },
   "outputs": [
    {
     "data": {
      "text/plain": [
       "'c, b, a'"
      ]
     },
     "execution_count": 14,
     "metadata": {},
     "output_type": "execute_result"
    }
   ],
   "source": [
    " '{2}, {1}, {0}'.format('a', 'b', 'c')"
   ]
  },
  {
   "cell_type": "code",
   "execution_count": 15,
   "metadata": {
    "collapsed": false
   },
   "outputs": [
    {
     "data": {
      "text/plain": [
       "'c, b, a'"
      ]
     },
     "execution_count": 15,
     "metadata": {},
     "output_type": "execute_result"
    }
   ],
   "source": [
    "'{2}, {1}, {0}'.format(*'abc')"
   ]
  },
  {
   "cell_type": "code",
   "execution_count": 16,
   "metadata": {
    "collapsed": false
   },
   "outputs": [
    {
     "data": {
      "text/plain": [
       "'abracadabra'"
      ]
     },
     "execution_count": 16,
     "metadata": {},
     "output_type": "execute_result"
    }
   ],
   "source": [
    " '{0}{1}{0}'.format('abra', 'cad')"
   ]
  },
  {
   "cell_type": "code",
   "execution_count": 17,
   "metadata": {
    "collapsed": false
   },
   "outputs": [
    {
     "data": {
      "text/plain": [
       "'Coordinates: 37.24N, -115.81W'"
      ]
     },
     "execution_count": 17,
     "metadata": {},
     "output_type": "execute_result"
    }
   ],
   "source": [
    " 'Coordinates: {latitude}, {longitude}'.format(latitude='37.24N', longitude='-115.81W')"
   ]
  },
  {
   "cell_type": "code",
   "execution_count": 19,
   "metadata": {
    "collapsed": false
   },
   "outputs": [
    {
     "data": {
      "text/plain": [
       "'Coordinates: 37.24N, -115.81W'"
      ]
     },
     "execution_count": 19,
     "metadata": {},
     "output_type": "execute_result"
    }
   ],
   "source": [
    "coord = {'latitude': '37.24N', 'longitude': '-115.81W'}\n",
    "'Coordinates: {latitude}, {longitude}'.format(**coord)"
   ]
  },
  {
   "cell_type": "code",
   "execution_count": 20,
   "metadata": {
    "collapsed": false
   },
   "outputs": [
    {
     "data": {
      "text/plain": [
       "'The complex number (3-5j) is formed from the real part 3.0 and the imaginary part -5.0.'"
      ]
     },
     "execution_count": 20,
     "metadata": {},
     "output_type": "execute_result"
    }
   ],
   "source": [
    "c = 3-5j\n",
    "('The complex number {0} is formed from the real part {0.real} and the imaginary part {0.imag}.').format(c)"
   ]
  },
  {
   "cell_type": "code",
   "execution_count": 22,
   "metadata": {
    "collapsed": false
   },
   "outputs": [
    {
     "data": {
      "text/plain": [
       "'Point(4, 2)'"
      ]
     },
     "execution_count": 22,
     "metadata": {},
     "output_type": "execute_result"
    }
   ],
   "source": [
    "class Point(object):\n",
    "    def __init__(self, x, y):\n",
    "        self.x, self.y = x, y\n",
    "    def __str__(self):\n",
    "        return 'Point({self.x}, {self.y})'.format(self=self)\n",
    "\n",
    "\n",
    "str(Point(4, 2))"
   ]
  },
  {
   "cell_type": "code",
   "execution_count": 23,
   "metadata": {
    "collapsed": false
   },
   "outputs": [
    {
     "data": {
      "text/plain": [
       "'X: 3;  Y: 5'"
      ]
     },
     "execution_count": 23,
     "metadata": {},
     "output_type": "execute_result"
    }
   ],
   "source": [
    "coord = (3, 5)\n",
    "'X: {0[0]};  Y: {0[1]}'.format(coord)"
   ]
  },
  {
   "cell_type": "code",
   "execution_count": 24,
   "metadata": {
    "collapsed": false
   },
   "outputs": [
    {
     "data": {
      "text/plain": [
       "\"repr() shows quotes: 'test1'; str() doesn't: test2\""
      ]
     },
     "execution_count": 24,
     "metadata": {},
     "output_type": "execute_result"
    }
   ],
   "source": [
    "\"repr() shows quotes: {!r}; str() doesn't: {!s}\".format('test1', 'test2')"
   ]
  },
  {
   "cell_type": "markdown",
   "metadata": {},
   "source": [
    "校准内容，指定宽度-(align, width)"
   ]
  },
  {
   "cell_type": "code",
   "execution_count": 25,
   "metadata": {
    "collapsed": false
   },
   "outputs": [
    {
     "data": {
      "text/plain": [
       "'left aligned                  '"
      ]
     },
     "execution_count": 25,
     "metadata": {},
     "output_type": "execute_result"
    }
   ],
   "source": [
    "'{:<30}'.format('left aligned')"
   ]
  },
  {
   "cell_type": "code",
   "execution_count": 26,
   "metadata": {
    "collapsed": false
   },
   "outputs": [
    {
     "data": {
      "text/plain": [
       "'                 right aligned'"
      ]
     },
     "execution_count": 26,
     "metadata": {},
     "output_type": "execute_result"
    }
   ],
   "source": [
    " '{:>30}'.format('right aligned')"
   ]
  },
  {
   "cell_type": "code",
   "execution_count": 29,
   "metadata": {
    "collapsed": false
   },
   "outputs": [
    {
     "data": {
      "text/plain": [
       "'           centered           '"
      ]
     },
     "execution_count": 29,
     "metadata": {},
     "output_type": "execute_result"
    }
   ],
   "source": [
    "'{:^30}'.format('centered')"
   ]
  },
  {
   "cell_type": "code",
   "execution_count": 30,
   "metadata": {
    "collapsed": false
   },
   "outputs": [
    {
     "data": {
      "text/plain": [
       "'***********centered***********'"
      ]
     },
     "execution_count": 30,
     "metadata": {},
     "output_type": "execute_result"
    }
   ],
   "source": [
    "'{:*^30}'.format('centered') "
   ]
  },
  {
   "cell_type": "markdown",
   "metadata": {},
   "source": [
    "sign"
   ]
  },
  {
   "cell_type": "code",
   "execution_count": 31,
   "metadata": {
    "collapsed": false
   },
   "outputs": [
    {
     "data": {
      "text/plain": [
       "'+3.140000; -3.140000'"
      ]
     },
     "execution_count": 31,
     "metadata": {},
     "output_type": "execute_result"
    }
   ],
   "source": [
    "'{:+f}; {:+f}'.format(3.14, -3.14)  # 总是呈现"
   ]
  },
  {
   "cell_type": "code",
   "execution_count": 32,
   "metadata": {
    "collapsed": false
   },
   "outputs": [
    {
     "data": {
      "text/plain": [
       "' 3.140000; -3.140000'"
      ]
     },
     "execution_count": 32,
     "metadata": {},
     "output_type": "execute_result"
    }
   ],
   "source": [
    "'{: f}; {: f}'.format(3.14, -3.14)  # 给减号留个位置"
   ]
  },
  {
   "cell_type": "code",
   "execution_count": 33,
   "metadata": {
    "collapsed": false,
    "scrolled": true
   },
   "outputs": [
    {
     "data": {
      "text/plain": [
       "'3.140000; -3.140000'"
      ]
     },
     "execution_count": 33,
     "metadata": {},
     "output_type": "execute_result"
    }
   ],
   "source": [
    " '{:-f}; {:-f}'.format(3.14, -3.14)  # show only the minus -- same as '{:f}; {:f}'"
   ]
  },
  {
   "cell_type": "markdown",
   "metadata": {},
   "source": [
    "千位分隔符(',')"
   ]
  },
  {
   "cell_type": "code",
   "execution_count": 34,
   "metadata": {
    "collapsed": false
   },
   "outputs": [
    {
     "data": {
      "text/plain": [
       "'1,234,567,890'"
      ]
     },
     "execution_count": 34,
     "metadata": {},
     "output_type": "execute_result"
    }
   ],
   "source": [
    "'{:,}'.format(1234567890)"
   ]
  },
  {
   "cell_type": "markdown",
   "metadata": {},
   "source": [
    "百分率"
   ]
  },
  {
   "cell_type": "code",
   "execution_count": 36,
   "metadata": {
    "collapsed": false
   },
   "outputs": [
    {
     "data": {
      "text/plain": [
       "'Correct answers: 88.64%'"
      ]
     },
     "execution_count": 36,
     "metadata": {},
     "output_type": "execute_result"
    }
   ],
   "source": [
    "points = 19.5\n",
    "total = 22\n",
    "'Correct answers: {:.2%}'.format(points/total)"
   ]
  },
  {
   "cell_type": "markdown",
   "metadata": {},
   "source": [
    "指定格式(type-specific)的格式化"
   ]
  },
  {
   "cell_type": "code",
   "execution_count": 37,
   "metadata": {
    "collapsed": false
   },
   "outputs": [
    {
     "data": {
      "text/plain": [
       "'2010-07-04 12:15:58'"
      ]
     },
     "execution_count": 37,
     "metadata": {},
     "output_type": "execute_result"
    }
   ],
   "source": [
    "import datetime\n",
    "d = datetime.datetime(2010, 7, 4, 12, 15, 58)\n",
    "'{:%Y-%m-%d %H:%M:%S}'.format(d)"
   ]
  },
  {
   "cell_type": "markdown",
   "metadata": {},
   "source": [
    "复杂例子和嵌套"
   ]
  },
  {
   "cell_type": "code",
   "execution_count": 40,
   "metadata": {
    "collapsed": true
   },
   "outputs": [],
   "source": [
    "for align, text in zip('<^>', ['left', 'center', 'right']):\n",
    "    '{0:{fill}{align}16}'.format(text, fill=align, align=align)\n",
    "    "
   ]
  },
  {
   "cell_type": "code",
   "execution_count": 41,
   "metadata": {
    "collapsed": false
   },
   "outputs": [
    {
     "name": "stdout",
     "output_type": "stream",
     "text": [
      "    5     5     5   101\n",
      "    6     6     6   110\n",
      "    7     7     7   111\n",
      "    8     8    10  1000\n",
      "    9     9    11  1001\n",
      "   10     A    12  1010\n",
      "   11     B    13  1011\n"
     ]
    }
   ],
   "source": [
    "width = 5\n",
    "for num in range(5, 12):\n",
    "    for base in 'dXob':\n",
    "        print '{0:{width}{base}}'.format(num, base=base, width=width),\n",
    "    print"
   ]
  }
 ],
 "metadata": {
  "kernelspec": {
   "display_name": "Python 2",
   "language": "python",
   "name": "python2"
  },
  "language_info": {
   "codemirror_mode": {
    "name": "ipython",
    "version": 2
   },
   "file_extension": ".py",
   "mimetype": "text/x-python",
   "name": "python",
   "nbconvert_exporter": "python",
   "pygments_lexer": "ipython2",
   "version": "2.7.13"
  }
 },
 "nbformat": 4,
 "nbformat_minor": 2
}
